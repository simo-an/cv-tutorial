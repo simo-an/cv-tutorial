{
 "cells": [
  {
   "cell_type": "markdown",
   "metadata": {},
   "source": [
    "作业一：差分高斯核是可分离的吗？\n",
    "\n",
    "高斯核可分离，差分高斯核不可分离\n"
   ]
  },
  {
   "cell_type": "markdown",
   "metadata": {},
   "source": [
    "作业二：使用不同 𝜎 的差分高斯核进行边缘提取实验"
   ]
  },
  {
   "cell_type": "code",
   "execution_count": 24,
   "metadata": {},
   "outputs": [],
   "source": [
    "image_path = \"./image/way.png\"\n",
    "\n",
    "import matplotlib.pyplot as plt\t\n",
    "\n",
    "def show_image(image):\n",
    "    plt.imshow(image)\n",
    "\n",
    "def save_iamge(image, name='temp.jpg', cvt=True):\n",
    "    cv.imwrite(name, cv.cvtColor(image, cv.COLOR_BGR2RGB) if cvt else image)"
   ]
  },
  {
   "cell_type": "code",
   "execution_count": 25,
   "metadata": {},
   "outputs": [],
   "source": [
    "import cv2 as cv\n",
    "import numpy as np\n",
    "\n",
    "# 先平滑再差分\n",
    "image = cv.imread(image_path, cv.IMREAD_UNCHANGED)\n",
    "rgb_image = cv.cvtColor(image, cv.COLOR_BGR2GRAY)\n",
    "image3 = cv.GaussianBlur(rgb_image, (3, 3), 1)\n",
    "image4 = cv.GaussianBlur(rgb_image, (3, 3), 3)\n",
    "image5 = image3 - image4\n",
    "image6 = cv.medianBlur(image5, 3)\n",
    "\n",
    "save_iamge(image6)\n"
   ]
  },
  {
   "cell_type": "markdown",
   "metadata": {},
   "source": [
    "作业三：使用Canny算法来提取图片的边缘（进行非极大化抑制和迟滞）\n",
    "见 canny.py "
   ]
  },
  {
   "cell_type": "code",
   "execution_count": 15,
   "metadata": {},
   "outputs": [],
   "source": [
    "# # 图像灰度化\n",
    "# src_image = cv.imread(image_path, cv.IMREAD_UNCHANGED)\n",
    "# grey_image = cv.cvtColor(src_image, cv.COLOR_BGR2GRAY)\n",
    "\n",
    "# save_iamge(grey_image)\n"
   ]
  }
 ],
 "metadata": {
  "interpreter": {
   "hash": "b3ba2566441a7c06988d0923437866b63cedc61552a5af99d1f4fb67d367b25f"
  },
  "kernelspec": {
   "display_name": "Python 3.9.7 64-bit ('base': conda)",
   "language": "python",
   "name": "python3"
  },
  "language_info": {
   "codemirror_mode": {
    "name": "ipython",
    "version": 3
   },
   "file_extension": ".py",
   "mimetype": "text/x-python",
   "name": "python",
   "nbconvert_exporter": "python",
   "pygments_lexer": "ipython3",
   "version": "3.9.7"
  },
  "orig_nbformat": 4
 },
 "nbformat": 4,
 "nbformat_minor": 2
}
